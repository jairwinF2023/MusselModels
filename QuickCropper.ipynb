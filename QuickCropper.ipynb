{
  "nbformat": 4,
  "nbformat_minor": 0,
  "metadata": {
    "colab": {
      "provenance": []
    },
    "kernelspec": {
      "name": "python3",
      "display_name": "Python 3"
    },
    "language_info": {
      "name": "python"
    }
  },
  "cells": [
    {
      "cell_type": "code",
      "source": [
        "from google.colab import drive\n",
        "drive.mount('/content/drive')\n",
        "\n",
        "import os"
      ],
      "metadata": {
        "colab": {
          "base_uri": "https://localhost:8080/"
        },
        "id": "_FGeR8RaDjlg",
        "outputId": "93262c51-7a22-465b-eb80-51c95c691022"
      },
      "execution_count": 1,
      "outputs": [
        {
          "output_type": "stream",
          "name": "stdout",
          "text": [
            "Mounted at /content/drive\n"
          ]
        }
      ]
    },
    {
      "cell_type": "code",
      "execution_count": 2,
      "metadata": {
        "id": "woeHO6A-Dbxd"
      },
      "outputs": [],
      "source": [
        "import torch\n",
        "import torchvision\n",
        "from torchvision import transforms\n",
        "from PIL import Image\n",
        "import numpy as np"
      ]
    },
    {
      "cell_type": "code",
      "source": [
        "import os\n",
        "import torch\n",
        "import torchvision\n",
        "from torchvision import transforms\n",
        "from PIL import Image\n",
        "import numpy as np\n",
        "\n",
        "# Load a pre-trained object detection model\n",
        "model = torchvision.models.detection.maskrcnn_resnet50_fpn(pretrained=True)\n",
        "model.eval()\n",
        "\n",
        "# Transformation for input images\n",
        "transform = transforms.Compose([\n",
        "    transforms.ToTensor(),\n",
        "])\n",
        "\n",
        "# Directory containing images\n",
        "image_dir = '/content/drive/My Drive/Research/Train Masks/'\n",
        "output_dir = '/content/drive/My Drive/Research/Train Label/'\n",
        "os.makedirs(output_dir, exist_ok=True)\n",
        "\n",
        "# Confidence threshold\n",
        "confidence_threshold = 0.5\n",
        "\n",
        "# Process each image in the dataset directory\n",
        "for filename in os.listdir(image_dir):\n",
        "    if filename.lower().endswith(('.jpg', '.jpeg', '.png')):\n",
        "        image_path = os.path.join(image_dir, filename)\n",
        "        image = Image.open(image_path).convert(\"RGB\")\n",
        "        image_tensor = transform(image)\n",
        "\n",
        "        # Run detection\n",
        "        with torch.no_grad():\n",
        "            outputs = model([image_tensor])\n",
        "        outputs = outputs[0]\n",
        "        boxes = outputs['boxes']\n",
        "        scores = outputs['scores']\n",
        "        labels = outputs['labels']\n",
        "\n",
        "        np_image = np.array(image)\n",
        "\n",
        "        for idx, score in enumerate(scores):\n",
        "            if score >= confidence_threshold:\n",
        "                label = labels[idx].item()\n",
        "                box = boxes[idx].cpu().numpy().astype(int)\n",
        "\n",
        "                xmin, ymin, xmax, ymax = box\n",
        "                # Ensure coordinates are within image bounds\n",
        "                xmin = max(0, xmin)\n",
        "                ymin = max(0, ymin)\n",
        "                xmax = min(np_image.shape[1], xmax)\n",
        "                ymax = min(np_image.shape[0], ymax)\n",
        "\n",
        "                entity_image = np_image[ymin:ymax, xmin:xmax]\n",
        "                entity_pil = Image.fromarray(entity_image)\n",
        "\n",
        "                # Save with a filename indicating source image and detection index\n",
        "                save_path = os.path.join(\n",
        "                    output_dir,\n",
        "                    f\"{os.path.splitext(filename)[0]}_entity_{idx}_score_{score:.2f}.png\"\n",
        "                )\n",
        "                entity_pil.save(save_path)"
      ],
      "metadata": {
        "colab": {
          "base_uri": "https://localhost:8080/"
        },
        "id": "WP8wSQ9EDcrU",
        "outputId": "29f977e8-6e87-49fb-f449-b5be65044cb8"
      },
      "execution_count": 3,
      "outputs": [
        {
          "output_type": "stream",
          "name": "stderr",
          "text": [
            "/usr/local/lib/python3.11/dist-packages/torchvision/models/_utils.py:208: UserWarning: The parameter 'pretrained' is deprecated since 0.13 and may be removed in the future, please use 'weights' instead.\n",
            "  warnings.warn(\n",
            "/usr/local/lib/python3.11/dist-packages/torchvision/models/_utils.py:223: UserWarning: Arguments other than a weight enum or `None` for 'weights' are deprecated since 0.13 and may be removed in the future. The current behavior is equivalent to passing `weights=MaskRCNN_ResNet50_FPN_Weights.COCO_V1`. You can also use `weights=MaskRCNN_ResNet50_FPN_Weights.DEFAULT` to get the most up-to-date weights.\n",
            "  warnings.warn(msg)\n",
            "Downloading: \"https://download.pytorch.org/models/maskrcnn_resnet50_fpn_coco-bf2d0c1e.pth\" to /root/.cache/torch/hub/checkpoints/maskrcnn_resnet50_fpn_coco-bf2d0c1e.pth\n",
            "100%|██████████| 170M/170M [00:01<00:00, 125MB/s]\n"
          ]
        }
      ]
    }
  ]
}